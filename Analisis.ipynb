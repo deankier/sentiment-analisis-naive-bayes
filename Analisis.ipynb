{
 "cells": [
  {
   "cell_type": "markdown",
   "metadata": {},
   "source": [
    "### Import dataset"
   ]
  },
  {
   "cell_type": "code",
   "execution_count": 1,
   "metadata": {},
   "outputs": [
    {
     "data": {
      "text/html": [
       "<div>\n",
       "<style scoped>\n",
       "    .dataframe tbody tr th:only-of-type {\n",
       "        vertical-align: middle;\n",
       "    }\n",
       "\n",
       "    .dataframe tbody tr th {\n",
       "        vertical-align: top;\n",
       "    }\n",
       "\n",
       "    .dataframe thead th {\n",
       "        text-align: right;\n",
       "    }\n",
       "</style>\n",
       "<table border=\"1\" class=\"dataframe\">\n",
       "  <thead>\n",
       "    <tr style=\"text-align: right;\">\n",
       "      <th></th>\n",
       "      <th>Sentimen</th>\n",
       "      <th>Komen</th>\n",
       "    </tr>\n",
       "  </thead>\n",
       "  <tbody>\n",
       "    <tr>\n",
       "      <th>0</th>\n",
       "      <td>negative</td>\n",
       "      <td>&lt;USERNAME&gt; TOLOL!! Gak ada hubungan nya kegug...</td>\n",
       "    </tr>\n",
       "    <tr>\n",
       "      <th>1</th>\n",
       "      <td>negative</td>\n",
       "      <td>Geblek lo tata...cowo bgt dibela2in balikan......</td>\n",
       "    </tr>\n",
       "    <tr>\n",
       "      <th>2</th>\n",
       "      <td>negative</td>\n",
       "      <td>Kmrn termewek2 skr lengket lg duhhh kok labil ...</td>\n",
       "    </tr>\n",
       "    <tr>\n",
       "      <th>3</th>\n",
       "      <td>negative</td>\n",
       "      <td>Intinya kalau kesel dengan ATT nya, gausah ke ...</td>\n",
       "    </tr>\n",
       "    <tr>\n",
       "      <th>4</th>\n",
       "      <td>negative</td>\n",
       "      <td>hadewwwww permpuan itu lg!!!!sakit jiwa,knp ha...</td>\n",
       "    </tr>\n",
       "    <tr>\n",
       "      <th>...</th>\n",
       "      <td>...</td>\n",
       "      <td>...</td>\n",
       "    </tr>\n",
       "    <tr>\n",
       "      <th>395</th>\n",
       "      <td>positive</td>\n",
       "      <td>Bangga sama suami yg selalu ingat istri disela...</td>\n",
       "    </tr>\n",
       "    <tr>\n",
       "      <th>396</th>\n",
       "      <td>positive</td>\n",
       "      <td>Apaoun pekerjaannya yg penting halal u tuk men...</td>\n",
       "    </tr>\n",
       "    <tr>\n",
       "      <th>397</th>\n",
       "      <td>positive</td>\n",
       "      <td>Gojek itu mayoritas pegangguran yang lama gak ...</td>\n",
       "    </tr>\n",
       "    <tr>\n",
       "      <th>398</th>\n",
       "      <td>positive</td>\n",
       "      <td>&lt;USERNAME&gt; aslinya cantik dan ayu loh mbak kr...</td>\n",
       "    </tr>\n",
       "    <tr>\n",
       "      <th>399</th>\n",
       "      <td>positive</td>\n",
       "      <td>&lt;USERNAME&gt; suami saya seumuran sama saya mba,...</td>\n",
       "    </tr>\n",
       "  </tbody>\n",
       "</table>\n",
       "<p>400 rows × 2 columns</p>\n",
       "</div>"
      ],
      "text/plain": [
       "     Sentimen                                              Komen\n",
       "0    negative   <USERNAME> TOLOL!! Gak ada hubungan nya kegug...\n",
       "1    negative  Geblek lo tata...cowo bgt dibela2in balikan......\n",
       "2    negative  Kmrn termewek2 skr lengket lg duhhh kok labil ...\n",
       "3    negative  Intinya kalau kesel dengan ATT nya, gausah ke ...\n",
       "4    negative  hadewwwww permpuan itu lg!!!!sakit jiwa,knp ha...\n",
       "..        ...                                                ...\n",
       "395  positive  Bangga sama suami yg selalu ingat istri disela...\n",
       "396  positive  Apaoun pekerjaannya yg penting halal u tuk men...\n",
       "397  positive  Gojek itu mayoritas pegangguran yang lama gak ...\n",
       "398  positive   <USERNAME> aslinya cantik dan ayu loh mbak kr...\n",
       "399  positive   <USERNAME> suami saya seumuran sama saya mba,...\n",
       "\n",
       "[400 rows x 2 columns]"
      ]
     },
     "execution_count": 1,
     "metadata": {},
     "output_type": "execute_result"
    }
   ],
   "source": [
    "import pandas as pd\n",
    "data = pd.read_csv(\"data/dataset.csv\")\n",
    "data"
   ]
  },
  {
   "cell_type": "markdown",
   "metadata": {},
   "source": [
    "### Case Folding dan Pembersihan Teks\n",
    "Mengubah teks menjadi bentuk yang seragam, biasanya mengubah menjadi text lowercase.\n",
    "Membersihkan teks dari simbol simbol yang tidak diperlukan."
   ]
  },
  {
   "cell_type": "code",
   "execution_count": 2,
   "metadata": {},
   "outputs": [
    {
     "data": {
      "text/html": [
       "<div>\n",
       "<style scoped>\n",
       "    .dataframe tbody tr th:only-of-type {\n",
       "        vertical-align: middle;\n",
       "    }\n",
       "\n",
       "    .dataframe tbody tr th {\n",
       "        vertical-align: top;\n",
       "    }\n",
       "\n",
       "    .dataframe thead th {\n",
       "        text-align: right;\n",
       "    }\n",
       "</style>\n",
       "<table border=\"1\" class=\"dataframe\">\n",
       "  <thead>\n",
       "    <tr style=\"text-align: right;\">\n",
       "      <th></th>\n",
       "      <th>Sentimen</th>\n",
       "      <th>Komen</th>\n",
       "    </tr>\n",
       "  </thead>\n",
       "  <tbody>\n",
       "    <tr>\n",
       "      <th>0</th>\n",
       "      <td>negative</td>\n",
       "      <td>tolol gak ada hubungan nya keguguran dgn pake...</td>\n",
       "    </tr>\n",
       "    <tr>\n",
       "      <th>1</th>\n",
       "      <td>negative</td>\n",
       "      <td>geblek lo tatacowo bgt dibela2in balikanhadeww...</td>\n",
       "    </tr>\n",
       "    <tr>\n",
       "      <th>2</th>\n",
       "      <td>negative</td>\n",
       "      <td>kmrn termewek2 skr lengket lg duhhh kok labil ...</td>\n",
       "    </tr>\n",
       "    <tr>\n",
       "      <th>3</th>\n",
       "      <td>negative</td>\n",
       "      <td>intinya kalau kesel dengan att nya gausah ke a...</td>\n",
       "    </tr>\n",
       "    <tr>\n",
       "      <th>4</th>\n",
       "      <td>negative</td>\n",
       "      <td>hadewwwww permpuan itu lgsakit jiwaknp harus d...</td>\n",
       "    </tr>\n",
       "  </tbody>\n",
       "</table>\n",
       "</div>"
      ],
      "text/plain": [
       "   Sentimen                                              Komen\n",
       "0  negative   tolol gak ada hubungan nya keguguran dgn pake...\n",
       "1  negative  geblek lo tatacowo bgt dibela2in balikanhadeww...\n",
       "2  negative  kmrn termewek2 skr lengket lg duhhh kok labil ...\n",
       "3  negative  intinya kalau kesel dengan att nya gausah ke a...\n",
       "4  negative  hadewwwww permpuan itu lgsakit jiwaknp harus d..."
      ]
     },
     "execution_count": 2,
     "metadata": {},
     "output_type": "execute_result"
    }
   ],
   "source": [
    "import re \n",
    "def casefolding(komen):\n",
    "    komen = komen.lower()\n",
    "    komen = komen.strip(\" \")\n",
    "    komen = re.sub(r'(<[A-Za-z0-9]+>)|(#[A-Za-z0-9]+)|(@[A-Za-z0-9]+)|([^0-9A-Za-z \\t])|(\\w+:\\/\\/\\S+)',\"\",komen)\n",
    "    return komen\n",
    "data['Komen'] = data['Komen'].apply(casefolding)\n",
    "data.head()"
   ]
  },
  {
   "cell_type": "markdown",
   "metadata": {},
   "source": [
    "### Tokenization\n",
    "Memecah sebuah teks atau kalimat menjadi bagian-bagian yang lebih kecil"
   ]
  },
  {
   "cell_type": "code",
   "execution_count": 3,
   "metadata": {},
   "outputs": [
    {
     "data": {
      "text/html": [
       "<div>\n",
       "<style scoped>\n",
       "    .dataframe tbody tr th:only-of-type {\n",
       "        vertical-align: middle;\n",
       "    }\n",
       "\n",
       "    .dataframe tbody tr th {\n",
       "        vertical-align: top;\n",
       "    }\n",
       "\n",
       "    .dataframe thead th {\n",
       "        text-align: right;\n",
       "    }\n",
       "</style>\n",
       "<table border=\"1\" class=\"dataframe\">\n",
       "  <thead>\n",
       "    <tr style=\"text-align: right;\">\n",
       "      <th></th>\n",
       "      <th>Sentimen</th>\n",
       "      <th>Komen</th>\n",
       "    </tr>\n",
       "  </thead>\n",
       "  <tbody>\n",
       "    <tr>\n",
       "      <th>0</th>\n",
       "      <td>negative</td>\n",
       "      <td>[, tolol, gak, ada, hubungan, nya, keguguran, ...</td>\n",
       "    </tr>\n",
       "    <tr>\n",
       "      <th>1</th>\n",
       "      <td>negative</td>\n",
       "      <td>[geblek, lo, tatacowo, bgt, dibela2in, balikan...</td>\n",
       "    </tr>\n",
       "    <tr>\n",
       "      <th>2</th>\n",
       "      <td>negative</td>\n",
       "      <td>[kmrn, termewek2, skr, lengket, lg, duhhh, kok...</td>\n",
       "    </tr>\n",
       "    <tr>\n",
       "      <th>3</th>\n",
       "      <td>negative</td>\n",
       "      <td>[intinya, kalau, kesel, dengan, att, nya, gaus...</td>\n",
       "    </tr>\n",
       "    <tr>\n",
       "      <th>4</th>\n",
       "      <td>negative</td>\n",
       "      <td>[hadewwwww, permpuan, itu, lgsakit, jiwaknp, h...</td>\n",
       "    </tr>\n",
       "    <tr>\n",
       "      <th>...</th>\n",
       "      <td>...</td>\n",
       "      <td>...</td>\n",
       "    </tr>\n",
       "    <tr>\n",
       "      <th>95</th>\n",
       "      <td>negative</td>\n",
       "      <td>[yg, nama, ny, plagiat, ya, plagiat, walaupun,...</td>\n",
       "    </tr>\n",
       "    <tr>\n",
       "      <th>96</th>\n",
       "      <td>negative</td>\n",
       "      <td>[dasar, plagiat, semuanya, ga, bisa, kreatipme...</td>\n",
       "    </tr>\n",
       "    <tr>\n",
       "      <th>97</th>\n",
       "      <td>negative</td>\n",
       "      <td>[dan, dengan, begonya, dia, bilang, apanya, ya...</td>\n",
       "    </tr>\n",
       "    <tr>\n",
       "      <th>98</th>\n",
       "      <td>negative</td>\n",
       "      <td>[itu, pacarnya, anggel, pietrs, kali, dan, cow...</td>\n",
       "    </tr>\n",
       "    <tr>\n",
       "      <th>99</th>\n",
       "      <td>negative</td>\n",
       "      <td>[japok, gateeel, emanguda, jelas, dia, ada, ma...</td>\n",
       "    </tr>\n",
       "  </tbody>\n",
       "</table>\n",
       "<p>100 rows × 2 columns</p>\n",
       "</div>"
      ],
      "text/plain": [
       "    Sentimen                                              Komen\n",
       "0   negative  [, tolol, gak, ada, hubungan, nya, keguguran, ...\n",
       "1   negative  [geblek, lo, tatacowo, bgt, dibela2in, balikan...\n",
       "2   negative  [kmrn, termewek2, skr, lengket, lg, duhhh, kok...\n",
       "3   negative  [intinya, kalau, kesel, dengan, att, nya, gaus...\n",
       "4   negative  [hadewwwww, permpuan, itu, lgsakit, jiwaknp, h...\n",
       "..       ...                                                ...\n",
       "95  negative  [yg, nama, ny, plagiat, ya, plagiat, walaupun,...\n",
       "96  negative  [dasar, plagiat, semuanya, ga, bisa, kreatipme...\n",
       "97  negative  [dan, dengan, begonya, dia, bilang, apanya, ya...\n",
       "98  negative  [itu, pacarnya, anggel, pietrs, kali, dan, cow...\n",
       "99  negative  [japok, gateeel, emanguda, jelas, dia, ada, ma...\n",
       "\n",
       "[100 rows x 2 columns]"
      ]
     },
     "execution_count": 3,
     "metadata": {},
     "output_type": "execute_result"
    }
   ],
   "source": [
    "def token(komen):\n",
    "    nstr = komen.split(\" \")\n",
    "    dat = []\n",
    "    a = -1\n",
    "\n",
    "    for i in nstr:\n",
    "        a = a + 1\n",
    "\n",
    "    if i == \"\":\n",
    "        dat.append(a)\n",
    "\n",
    "    p = 0\n",
    "    b = 0\n",
    "\n",
    "    for q in dat:\n",
    "        b = q - p\n",
    "        del nstr[b]\n",
    "        p = p + 1\n",
    "\n",
    "    return nstr\n",
    "\n",
    "data[\"Komen\"] = data[\"Komen\"].apply(token)\n",
    "data.head(100)"
   ]
  },
  {
   "cell_type": "markdown",
   "metadata": {},
   "source": [
    "### Filtering\n",
    "Menghilangkan kata yang kurang bermakna, seperti kata penghubung atau yang lainya"
   ]
  },
  {
   "cell_type": "code",
   "execution_count": 4,
   "metadata": {},
   "outputs": [
    {
     "name": "stderr",
     "output_type": "stream",
     "text": [
      "[nltk_data] Error loading stopwords: <urlopen error [Errno 11001]\n",
      "[nltk_data]     getaddrinfo failed>\n"
     ]
    },
    {
     "data": {
      "text/html": [
       "<div>\n",
       "<style scoped>\n",
       "    .dataframe tbody tr th:only-of-type {\n",
       "        vertical-align: middle;\n",
       "    }\n",
       "\n",
       "    .dataframe tbody tr th {\n",
       "        vertical-align: top;\n",
       "    }\n",
       "\n",
       "    .dataframe thead th {\n",
       "        text-align: right;\n",
       "    }\n",
       "</style>\n",
       "<table border=\"1\" class=\"dataframe\">\n",
       "  <thead>\n",
       "    <tr style=\"text-align: right;\">\n",
       "      <th></th>\n",
       "      <th>Sentimen</th>\n",
       "      <th>Komen</th>\n",
       "    </tr>\n",
       "  </thead>\n",
       "  <tbody>\n",
       "    <tr>\n",
       "      <th>0</th>\n",
       "      <td>negative</td>\n",
       "      <td>[, tolol, gak, hubungan, nya, keguguran, dgn, ...</td>\n",
       "    </tr>\n",
       "    <tr>\n",
       "      <th>1</th>\n",
       "      <td>negative</td>\n",
       "      <td>[geblek, lo, tatacowo, bgt, dibela2in, balikan...</td>\n",
       "    </tr>\n",
       "    <tr>\n",
       "      <th>2</th>\n",
       "      <td>negative</td>\n",
       "      <td>[kmrn, termewek2, skr, lengket, lg, duhhh, lab...</td>\n",
       "    </tr>\n",
       "    <tr>\n",
       "      <th>3</th>\n",
       "      <td>negative</td>\n",
       "      <td>[intinya, kesel, att, nya, gausah, anaknya, ka...</td>\n",
       "    </tr>\n",
       "    <tr>\n",
       "      <th>4</th>\n",
       "      <td>negative</td>\n",
       "      <td>[hadewwwww, permpuan, lgsakit, jiwaknp, yg, jd...</td>\n",
       "    </tr>\n",
       "    <tr>\n",
       "      <th>...</th>\n",
       "      <td>...</td>\n",
       "      <td>...</td>\n",
       "    </tr>\n",
       "    <tr>\n",
       "      <th>95</th>\n",
       "      <td>negative</td>\n",
       "      <td>[yg, nama, ny, plagiat, ya, plagiat, laku, tp,...</td>\n",
       "    </tr>\n",
       "    <tr>\n",
       "      <th>96</th>\n",
       "      <td>negative</td>\n",
       "      <td>[dasar, plagiat, ga, kreatipmemalukab, bgt]</td>\n",
       "    </tr>\n",
       "    <tr>\n",
       "      <th>97</th>\n",
       "      <td>negative</td>\n",
       "      <td>[begonya, bilang, apanya, yaaa, liriknya, aja,...</td>\n",
       "    </tr>\n",
       "    <tr>\n",
       "      <th>98</th>\n",
       "      <td>negative</td>\n",
       "      <td>[pacarnya, anggel, pietrs, kali, cowok, bocah,...</td>\n",
       "    </tr>\n",
       "    <tr>\n",
       "      <th>99</th>\n",
       "      <td>negative</td>\n",
       "      <td>[japok, gateeel, emanguda, main, si, mamadsamp...</td>\n",
       "    </tr>\n",
       "  </tbody>\n",
       "</table>\n",
       "<p>100 rows × 2 columns</p>\n",
       "</div>"
      ],
      "text/plain": [
       "    Sentimen                                              Komen\n",
       "0   negative  [, tolol, gak, hubungan, nya, keguguran, dgn, ...\n",
       "1   negative  [geblek, lo, tatacowo, bgt, dibela2in, balikan...\n",
       "2   negative  [kmrn, termewek2, skr, lengket, lg, duhhh, lab...\n",
       "3   negative  [intinya, kesel, att, nya, gausah, anaknya, ka...\n",
       "4   negative  [hadewwwww, permpuan, lgsakit, jiwaknp, yg, jd...\n",
       "..       ...                                                ...\n",
       "95  negative  [yg, nama, ny, plagiat, ya, plagiat, laku, tp,...\n",
       "96  negative        [dasar, plagiat, ga, kreatipmemalukab, bgt]\n",
       "97  negative  [begonya, bilang, apanya, yaaa, liriknya, aja,...\n",
       "98  negative  [pacarnya, anggel, pietrs, kali, cowok, bocah,...\n",
       "99  negative  [japok, gateeel, emanguda, main, si, mamadsamp...\n",
       "\n",
       "[100 rows x 2 columns]"
      ]
     },
     "execution_count": 4,
     "metadata": {},
     "output_type": "execute_result"
    }
   ],
   "source": [
    "import nltk\n",
    "nltk.download('stopwords')\n",
    "from nltk.corpus import stopwords\n",
    "\n",
    "def stopword_removal(komen):\n",
    "    filtering = stopwords.words(\"indonesian\")\n",
    "    x = []\n",
    "    data = []\n",
    "    def myFunc(x):\n",
    "        if x in filtering:\n",
    "            return False\n",
    "        else:\n",
    "            return True\n",
    "        \n",
    "    fit = filter(myFunc, komen)\n",
    "    for x in fit:\n",
    "        data.append(x)\n",
    "\n",
    "    return data\n",
    "\n",
    "data[\"Komen\"] = data[\"Komen\"].apply(stopword_removal)\n",
    "data.head(100)"
   ]
  },
  {
   "cell_type": "markdown",
   "metadata": {},
   "source": [
    "### Stemming\n",
    "Mengubah kata menjadi kata dasar atau menghilangkan imbuhan yang terdapat pada suatu kata"
   ]
  },
  {
   "cell_type": "code",
   "execution_count": 5,
   "metadata": {},
   "outputs": [
    {
     "data": {
      "text/html": [
       "<div>\n",
       "<style scoped>\n",
       "    .dataframe tbody tr th:only-of-type {\n",
       "        vertical-align: middle;\n",
       "    }\n",
       "\n",
       "    .dataframe tbody tr th {\n",
       "        vertical-align: top;\n",
       "    }\n",
       "\n",
       "    .dataframe thead th {\n",
       "        text-align: right;\n",
       "    }\n",
       "</style>\n",
       "<table border=\"1\" class=\"dataframe\">\n",
       "  <thead>\n",
       "    <tr style=\"text-align: right;\">\n",
       "      <th></th>\n",
       "      <th>Sentimen</th>\n",
       "      <th>Komen</th>\n",
       "    </tr>\n",
       "  </thead>\n",
       "  <tbody>\n",
       "    <tr>\n",
       "      <th>0</th>\n",
       "      <td>negative</td>\n",
       "      <td>tolol gak hubung nya gugur dgn pake hijab sya...</td>\n",
       "    </tr>\n",
       "    <tr>\n",
       "      <th>1</th>\n",
       "      <td>negative</td>\n",
       "      <td>geblek lo tatacowo bgt dibela2in balikanhadeww...</td>\n",
       "    </tr>\n",
       "    <tr>\n",
       "      <th>2</th>\n",
       "      <td>negative</td>\n",
       "      <td>kmrn termewek2 skr lengket lg duhhh labil bgt ...</td>\n",
       "    </tr>\n",
       "    <tr>\n",
       "      <th>3</th>\n",
       "      <td>negative</td>\n",
       "      <td>inti kesel att nya gausah anak kasi kembang ps...</td>\n",
       "    </tr>\n",
       "    <tr>\n",
       "      <th>4</th>\n",
       "      <td>negative</td>\n",
       "      <td>hadewwwww permpuan lgsakit jiwaknp yg jd peran...</td>\n",
       "    </tr>\n",
       "  </tbody>\n",
       "</table>\n",
       "</div>"
      ],
      "text/plain": [
       "   Sentimen                                              Komen\n",
       "0  negative   tolol gak hubung nya gugur dgn pake hijab sya...\n",
       "1  negative  geblek lo tatacowo bgt dibela2in balikanhadeww...\n",
       "2  negative  kmrn termewek2 skr lengket lg duhhh labil bgt ...\n",
       "3  negative  inti kesel att nya gausah anak kasi kembang ps...\n",
       "4  negative  hadewwwww permpuan lgsakit jiwaknp yg jd peran..."
      ]
     },
     "execution_count": 5,
     "metadata": {},
     "output_type": "execute_result"
    }
   ],
   "source": [
    "from Sastrawi.Stemmer.StemmerFactory import StemmerFactory\n",
    "\n",
    "def stemming(komen):\n",
    "    factory = StemmerFactory()\n",
    "    stemmer = factory.create_stemmer()\n",
    "    kt = []\n",
    "\n",
    "    for w in komen:\n",
    "        dt = stemmer.stem(w)\n",
    "        kt.append(dt)\n",
    "\n",
    "    dt_clean = []\n",
    "    dt_clean = \" \".join(kt)\n",
    "    return dt_clean\n",
    "\n",
    "data[\"Komen\"] = data[\"Komen\"].apply(stemming)\n",
    "\n",
    "data.to_csv(\"data/data_clean.csv\", index=False)\n",
    "data_clean = pd.read_csv(\"data/data_clean.csv\")\n",
    "data_clean.head()"
   ]
  },
  {
   "cell_type": "markdown",
   "metadata": {},
   "source": [
    "### Mengkategorikan data menjaadi string dan kategori"
   ]
  },
  {
   "cell_type": "code",
   "execution_count": 6,
   "metadata": {},
   "outputs": [
    {
     "data": {
      "text/plain": [
       "Sentimen          category\n",
       "Komen       string[python]\n",
       "dtype: object"
      ]
     },
     "execution_count": 6,
     "metadata": {},
     "output_type": "execute_result"
    }
   ],
   "source": [
    "data_clean = data_clean.astype({'Komen' : 'string'})\n",
    "data_clean = data_clean.astype({'Sentimen' : 'category'})\n",
    "data_clean.dtypes"
   ]
  },
  {
   "cell_type": "markdown",
   "metadata": {},
   "source": [
    "### TF-IDF ( Term Frequency-Inverse Document Frequency)\n",
    "Mengukur seberapa sering sebuah kata muncul dalam sebuah dataset atau dokumen"
   ]
  },
  {
   "cell_type": "code",
   "execution_count": 7,
   "metadata": {},
   "outputs": [
    {
     "name": "stdout",
     "output_type": "stream",
     "text": [
      "(400, 2669)\n"
     ]
    }
   ],
   "source": [
    "from sklearn.feature_extraction.text import TfidfVectorizer\n",
    "\n",
    "tfIdf = TfidfVectorizer()\n",
    "data_tfIdf = tfIdf.fit_transform(data_clean[\"Komen\"].astype(\"U\"))\n",
    "print(data_tfIdf.shape)"
   ]
  },
  {
   "cell_type": "markdown",
   "metadata": {},
   "source": [
    "### Splitting Data\n",
    "membagi dataset menjadi subset yang berbeda untuk pelatihan (training) dan pengujian (testing)"
   ]
  },
  {
   "cell_type": "code",
   "execution_count": 8,
   "metadata": {},
   "outputs": [
    {
     "name": "stdout",
     "output_type": "stream",
     "text": [
      "X_train :  (320, 2669)\n",
      "X_test :  (80, 2669)\n",
      "y_train :  (320,)\n",
      "y_test :  (80,)\n"
     ]
    }
   ],
   "source": [
    "from sklearn.model_selection import train_test_split\n",
    "\n",
    "x = data_tfIdf\n",
    "y = data_clean[\"Sentimen\"]\n",
    "x_train, x_test, y_train, y_test = train_test_split(x, y, test_size=0.2, random_state=42)\n",
    "\n",
    "print(\"X_train : \", x_train.shape)\n",
    "print(\"X_test : \", x_test.shape)\n",
    "print(\"y_train : \", y_train.shape)\n",
    "print(\"y_test : \", y_test.shape)"
   ]
  },
  {
   "cell_type": "markdown",
   "metadata": {},
   "source": [
    "### Implementasi Multinomial Naive Bayes"
   ]
  },
  {
   "cell_type": "code",
   "execution_count": 9,
   "metadata": {},
   "outputs": [
    {
     "name": "stdout",
     "output_type": "stream",
     "text": [
      "MultinomialNB Accuracy :  0.9125\n",
      "MultinomialNB Preccision :  0.9743589743589743\n",
      "MultinomialNB Recall :  0.8636363636363636\n",
      "MultinomialNB F1 Score :  0.9156626506024097\n",
      "Confusion Matrix : \n",
      " [[38  6]\n",
      " [ 1 35]]\n",
      "======================================================\n",
      "              precision    recall  f1-score   support\n",
      "\n",
      "    negative       0.97      0.86      0.92        44\n",
      "    positive       0.85      0.97      0.91        36\n",
      "\n",
      "    accuracy                           0.91        80\n",
      "   macro avg       0.91      0.92      0.91        80\n",
      "weighted avg       0.92      0.91      0.91        80\n",
      "\n"
     ]
    }
   ],
   "source": [
    "from sklearn.naive_bayes import MultinomialNB\n",
    "from sklearn.metrics import accuracy_score, precision_score, recall_score, f1_score\n",
    "from sklearn.metrics import classification_report\n",
    "from sklearn.metrics import confusion_matrix\n",
    "\n",
    "clf = MultinomialNB().fit(x_train, y_train)\n",
    "predicted = clf.predict(x_test)\n",
    "print(\"MultinomialNB Accuracy : \", accuracy_score(y_test,predicted))\n",
    "print(\"MultinomialNB Preccision : \", precision_score(y_test, predicted, average=\"binary\", pos_label=\"negative\"))\n",
    "print(\"MultinomialNB Recall : \", recall_score(y_test, predicted, average=\"binary\", pos_label=\"negative\"))\n",
    "print(\"MultinomialNB F1 Score : \", f1_score(y_test, predicted, average=\"binary\", pos_label=\"negative\"))\n",
    "print(f\"Confusion Matrix : \\n {confusion_matrix(y_test, predicted)}\")\n",
    "print(\"======================================================\")\n",
    "print(classification_report(y_test, predicted, zero_division=0))"
   ]
  },
  {
   "cell_type": "markdown",
   "metadata": {},
   "source": [
    "### Mencoba Prediksi"
   ]
  },
  {
   "cell_type": "code",
   "execution_count": 16,
   "metadata": {},
   "outputs": [
    {
     "name": "stdout",
     "output_type": "stream",
     "text": [
      "negative\n"
     ]
    }
   ],
   "source": [
    "# Mencoba prediksi manual dari list\n",
    "\n",
    "dt_pred = [\"jahat banget kamu\"]\n",
    "dt_pred_tfid = tfIdf.transform(dt_pred)\n",
    "\n",
    "my_pred = clf.predict(dt_pred_tfid)\n",
    "print(my_pred[0])"
   ]
  },
  {
   "cell_type": "markdown",
   "metadata": {},
   "source": [
    "Coba dengan dataset"
   ]
  },
  {
   "cell_type": "code",
   "execution_count": 11,
   "metadata": {},
   "outputs": [
    {
     "data": {
      "text/html": [
       "<div>\n",
       "<style scoped>\n",
       "    .dataframe tbody tr th:only-of-type {\n",
       "        vertical-align: middle;\n",
       "    }\n",
       "\n",
       "    .dataframe tbody tr th {\n",
       "        vertical-align: top;\n",
       "    }\n",
       "\n",
       "    .dataframe thead th {\n",
       "        text-align: right;\n",
       "    }\n",
       "</style>\n",
       "<table border=\"1\" class=\"dataframe\">\n",
       "  <thead>\n",
       "    <tr style=\"text-align: right;\">\n",
       "      <th></th>\n",
       "      <th>Komen</th>\n",
       "    </tr>\n",
       "  </thead>\n",
       "  <tbody>\n",
       "    <tr>\n",
       "      <th>0</th>\n",
       "      <td>jln jatibarupolisi tdk bs gertak gubernur eman...</td>\n",
       "    </tr>\n",
       "    <tr>\n",
       "      <th>1</th>\n",
       "      <td>cewe lho kayak rasain sibuk jaga rasain sakit ...</td>\n",
       "    </tr>\n",
       "    <tr>\n",
       "      <th>2</th>\n",
       "      <td>kepingin gudeg mbarek bu hj amad foto google s...</td>\n",
       "    </tr>\n",
       "    <tr>\n",
       "      <th>3</th>\n",
       "      <td>jln jatibarubagian wilayah tn abangpengaturan ...</td>\n",
       "    </tr>\n",
       "    <tr>\n",
       "      <th>4</th>\n",
       "      <td>sharing alam aja kemarin jam 1800 batalin tike...</td>\n",
       "    </tr>\n",
       "  </tbody>\n",
       "</table>\n",
       "</div>"
      ],
      "text/plain": [
       "                                               Komen\n",
       "0  jln jatibarupolisi tdk bs gertak gubernur eman...\n",
       "1  cewe lho kayak rasain sibuk jaga rasain sakit ...\n",
       "2  kepingin gudeg mbarek bu hj amad foto google s...\n",
       "3  jln jatibarubagian wilayah tn abangpengaturan ...\n",
       "4  sharing alam aja kemarin jam 1800 batalin tike..."
      ]
     },
     "execution_count": 11,
     "metadata": {},
     "output_type": "execute_result"
    }
   ],
   "source": [
    "# mencoba prediksi dataset\n",
    "data_predict = pd.read_csv(\"data_prediksi/data_prediksi_clean.csv\")\n",
    "data_predict.head()"
   ]
  },
  {
   "cell_type": "code",
   "execution_count": 12,
   "metadata": {},
   "outputs": [
    {
     "data": {
      "text/plain": [
       "array(['positive', 'negative', 'positive', 'negative', 'positive',\n",
       "       'negative', 'negative', 'negative', 'negative', 'positive',\n",
       "       'positive', 'negative', 'positive', 'positive', 'negative',\n",
       "       'negative', 'positive', 'negative', 'positive', 'positive',\n",
       "       'negative', 'positive', 'positive', 'positive', 'positive',\n",
       "       'positive', 'positive', 'negative', 'negative', 'positive',\n",
       "       'positive', 'positive', 'positive', 'negative', 'positive',\n",
       "       'positive', 'negative', 'negative', 'positive', 'positive',\n",
       "       'negative', 'positive', 'negative', 'positive', 'negative',\n",
       "       'positive', 'negative', 'negative', 'positive', 'negative',\n",
       "       'positive', 'negative', 'positive', 'positive', 'positive',\n",
       "       'negative', 'negative', 'positive', 'positive', 'positive',\n",
       "       'positive', 'negative', 'negative', 'negative', 'positive',\n",
       "       'negative', 'positive', 'negative', 'positive', 'negative',\n",
       "       'negative', 'positive', 'positive', 'positive', 'positive',\n",
       "       'negative', 'negative', 'positive', 'negative', 'positive',\n",
       "       'negative', 'negative', 'positive', 'positive', 'positive',\n",
       "       'negative', 'negative', 'negative', 'positive', 'negative',\n",
       "       'positive', 'negative', 'positive', 'negative', 'negative',\n",
       "       'positive', 'negative', 'negative', 'positive'], dtype='<U8')"
      ]
     },
     "execution_count": 12,
     "metadata": {},
     "output_type": "execute_result"
    }
   ],
   "source": [
    "tfid_data_predict = tfIdf.transform(data_predict[\"Komen\"])\n",
    "my_predict = clf.predict(tfid_data_predict)\n",
    "my_predict"
   ]
  },
  {
   "cell_type": "code",
   "execution_count": 13,
   "metadata": {},
   "outputs": [
    {
     "data": {
      "text/html": [
       "<div>\n",
       "<style scoped>\n",
       "    .dataframe tbody tr th:only-of-type {\n",
       "        vertical-align: middle;\n",
       "    }\n",
       "\n",
       "    .dataframe tbody tr th {\n",
       "        vertical-align: top;\n",
       "    }\n",
       "\n",
       "    .dataframe thead th {\n",
       "        text-align: right;\n",
       "    }\n",
       "</style>\n",
       "<table border=\"1\" class=\"dataframe\">\n",
       "  <thead>\n",
       "    <tr style=\"text-align: right;\">\n",
       "      <th></th>\n",
       "      <th>Komen</th>\n",
       "      <th>Sentimen</th>\n",
       "    </tr>\n",
       "  </thead>\n",
       "  <tbody>\n",
       "    <tr>\n",
       "      <th>0</th>\n",
       "      <td>jln jatibarupolisi tdk bs gertak gubernur eman...</td>\n",
       "      <td>positive</td>\n",
       "    </tr>\n",
       "    <tr>\n",
       "      <th>1</th>\n",
       "      <td>cewe lho kayak rasain sibuk jaga rasain sakit ...</td>\n",
       "      <td>negative</td>\n",
       "    </tr>\n",
       "    <tr>\n",
       "      <th>2</th>\n",
       "      <td>kepingin gudeg mbarek bu hj amad foto google s...</td>\n",
       "      <td>positive</td>\n",
       "    </tr>\n",
       "    <tr>\n",
       "      <th>3</th>\n",
       "      <td>jln jatibarubagian wilayah tn abangpengaturan ...</td>\n",
       "      <td>negative</td>\n",
       "    </tr>\n",
       "    <tr>\n",
       "      <th>4</th>\n",
       "      <td>sharing alam aja kemarin jam 1800 batalin tike...</td>\n",
       "      <td>positive</td>\n",
       "    </tr>\n",
       "    <tr>\n",
       "      <th>...</th>\n",
       "      <td>...</td>\n",
       "      <td>...</td>\n",
       "    </tr>\n",
       "    <tr>\n",
       "      <th>94</th>\n",
       "      <td>bodoh mu bong suruh baca baca pbb cikal masyum...</td>\n",
       "      <td>negative</td>\n",
       "    </tr>\n",
       "    <tr>\n",
       "      <th>95</th>\n",
       "      <td>mudah2an terupload smua z mudik karna fans mod...</td>\n",
       "      <td>positive</td>\n",
       "    </tr>\n",
       "    <tr>\n",
       "      <th>96</th>\n",
       "      <td>orang dukung khilafah black mail</td>\n",
       "      <td>negative</td>\n",
       "    </tr>\n",
       "    <tr>\n",
       "      <th>97</th>\n",
       "      <td>sok akrab ye mention mention gue  maling aje y...</td>\n",
       "      <td>negative</td>\n",
       "    </tr>\n",
       "    <tr>\n",
       "      <th>98</th>\n",
       "      <td>alhamdulillah prof bicara malam  adem moga baw...</td>\n",
       "      <td>positive</td>\n",
       "    </tr>\n",
       "  </tbody>\n",
       "</table>\n",
       "<p>99 rows × 2 columns</p>\n",
       "</div>"
      ],
      "text/plain": [
       "                                                Komen  Sentimen\n",
       "0   jln jatibarupolisi tdk bs gertak gubernur eman...  positive\n",
       "1   cewe lho kayak rasain sibuk jaga rasain sakit ...  negative\n",
       "2   kepingin gudeg mbarek bu hj amad foto google s...  positive\n",
       "3   jln jatibarubagian wilayah tn abangpengaturan ...  negative\n",
       "4   sharing alam aja kemarin jam 1800 batalin tike...  positive\n",
       "..                                                ...       ...\n",
       "94  bodoh mu bong suruh baca baca pbb cikal masyum...  negative\n",
       "95  mudah2an terupload smua z mudik karna fans mod...  positive\n",
       "96     orang dukung khilafah black mail                negative\n",
       "97  sok akrab ye mention mention gue  maling aje y...  negative\n",
       "98  alhamdulillah prof bicara malam  adem moga baw...  positive\n",
       "\n",
       "[99 rows x 2 columns]"
      ]
     },
     "execution_count": 13,
     "metadata": {},
     "output_type": "execute_result"
    }
   ],
   "source": [
    "data_predict[\"Sentimen\"] = my_predict\n",
    "data_predict.to_csv(\"data_prediksi/hasil_prediksi.csv\", index=False)\n",
    "\n",
    "hasil_predict = pd.read_csv(\"data_prediksi/hasil_prediksi.csv\")\n",
    "hasil_predict"
   ]
  },
  {
   "cell_type": "markdown",
   "metadata": {},
   "source": [
    "#### Membuat Model "
   ]
  },
  {
   "cell_type": "code",
   "execution_count": 14,
   "metadata": {},
   "outputs": [],
   "source": [
    "from sklearn.linear_model import LogisticRegression\n",
    "import pickle\n",
    "\n",
    "model = LogisticRegression()\n",
    "model.fit(x_train, y_train)\n",
    "\n",
    "pickle.dump(tfIdf, open(\"pickle/tfIdf.pkl\", mode=\"wb\"))\n",
    "pickle.dump(clf, open(\"pickle/clf.pkl\", mode=\"wb\"))\n",
    "pickle.dump(model, open(\"pickle/clf.pkl\", mode=\"wb\"))"
   ]
  },
  {
   "cell_type": "code",
   "execution_count": 17,
   "metadata": {},
   "outputs": [
    {
     "name": "stdout",
     "output_type": "stream",
     "text": [
      "positive\n"
     ]
    }
   ],
   "source": [
    "with open('pickle/tfIdf.pkl', mode='rb') as tf:\n",
    "    tfid_load = pickle.load(tf)\n",
    "with open('pickle/model.pkl', mode='rb') as model:\n",
    "    model_load = pickle.load(model)\n",
    "with open('pickle/clf.pkl', mode='rb') as cl:\n",
    "    clf_load = pickle.load(cl)\n",
    "\n",
    "dt_pred = [\"baik banget kamu\"]\n",
    "dt_pred_tfid = tfid_load.transform(dt_pred)\n",
    "pred = clf_load.predict(dt_pred_tfid)\n",
    "\n",
    "print(pred[0])"
   ]
  }
 ],
 "metadata": {
  "kernelspec": {
   "display_name": "venv-sentimen-analisis",
   "language": "python",
   "name": "python3"
  },
  "language_info": {
   "codemirror_mode": {
    "name": "ipython",
    "version": 3
   },
   "file_extension": ".py",
   "mimetype": "text/x-python",
   "name": "python",
   "nbconvert_exporter": "python",
   "pygments_lexer": "ipython3",
   "version": "3.10.1"
  },
  "orig_nbformat": 4
 },
 "nbformat": 4,
 "nbformat_minor": 2
}
