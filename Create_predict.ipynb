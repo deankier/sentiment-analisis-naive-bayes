{
 "cells": [
  {
   "cell_type": "code",
   "execution_count": 1,
   "metadata": {},
   "outputs": [],
   "source": [
    "from sklearn.pipeline import Pipeline\n",
    "import pandas as pd\n",
    "import numpy as np"
   ]
  },
  {
   "cell_type": "code",
   "execution_count": 2,
   "metadata": {},
   "outputs": [
    {
     "data": {
      "text/html": [
       "<div>\n",
       "<style scoped>\n",
       "    .dataframe tbody tr th:only-of-type {\n",
       "        vertical-align: middle;\n",
       "    }\n",
       "\n",
       "    .dataframe tbody tr th {\n",
       "        vertical-align: top;\n",
       "    }\n",
       "\n",
       "    .dataframe thead th {\n",
       "        text-align: right;\n",
       "    }\n",
       "</style>\n",
       "<table border=\"1\" class=\"dataframe\">\n",
       "  <thead>\n",
       "    <tr style=\"text-align: right;\">\n",
       "      <th></th>\n",
       "      <th>Komen</th>\n",
       "    </tr>\n",
       "  </thead>\n",
       "  <tbody>\n",
       "    <tr>\n",
       "      <th>0</th>\n",
       "      <td>Soal jln Jatibaru,polisi tdk bs GERTAK gubernu...</td>\n",
       "    </tr>\n",
       "    <tr>\n",
       "      <th>1</th>\n",
       "      <td>Sesama cewe lho (kayaknya), harusnya bisa lebi...</td>\n",
       "    </tr>\n",
       "    <tr>\n",
       "      <th>2</th>\n",
       "      <td>Kepingin gudeg mbarek Bu hj. Amad Foto dari go...</td>\n",
       "    </tr>\n",
       "    <tr>\n",
       "      <th>3</th>\n",
       "      <td>Jln Jatibaru,bagian dari wilayah Tn Abang.Peng...</td>\n",
       "    </tr>\n",
       "    <tr>\n",
       "      <th>4</th>\n",
       "      <td>Sharing pengalaman aja, kemarin jam 18.00 bata...</td>\n",
       "    </tr>\n",
       "  </tbody>\n",
       "</table>\n",
       "</div>"
      ],
      "text/plain": [
       "                                               Komen\n",
       "0  Soal jln Jatibaru,polisi tdk bs GERTAK gubernu...\n",
       "1  Sesama cewe lho (kayaknya), harusnya bisa lebi...\n",
       "2  Kepingin gudeg mbarek Bu hj. Amad Foto dari go...\n",
       "3  Jln Jatibaru,bagian dari wilayah Tn Abang.Peng...\n",
       "4  Sharing pengalaman aja, kemarin jam 18.00 bata..."
      ]
     },
     "execution_count": 2,
     "metadata": {},
     "output_type": "execute_result"
    }
   ],
   "source": [
    "data = pd.read_csv(\"data_prediksi/data_prediksi.csv\")\n",
    "data.head()"
   ]
  },
  {
   "cell_type": "markdown",
   "metadata": {},
   "source": [
    "Case Folding dan Pembersihan Teks"
   ]
  },
  {
   "cell_type": "code",
   "execution_count": 3,
   "metadata": {},
   "outputs": [
    {
     "data": {
      "text/html": [
       "<div>\n",
       "<style scoped>\n",
       "    .dataframe tbody tr th:only-of-type {\n",
       "        vertical-align: middle;\n",
       "    }\n",
       "\n",
       "    .dataframe tbody tr th {\n",
       "        vertical-align: top;\n",
       "    }\n",
       "\n",
       "    .dataframe thead th {\n",
       "        text-align: right;\n",
       "    }\n",
       "</style>\n",
       "<table border=\"1\" class=\"dataframe\">\n",
       "  <thead>\n",
       "    <tr style=\"text-align: right;\">\n",
       "      <th></th>\n",
       "      <th>Komen</th>\n",
       "    </tr>\n",
       "  </thead>\n",
       "  <tbody>\n",
       "    <tr>\n",
       "      <th>0</th>\n",
       "      <td>soal jln jatibarupolisi tdk bs gertak gubernur...</td>\n",
       "    </tr>\n",
       "    <tr>\n",
       "      <th>1</th>\n",
       "      <td>sesama cewe lho kayaknya harusnya bisa lebih r...</td>\n",
       "    </tr>\n",
       "    <tr>\n",
       "      <th>2</th>\n",
       "      <td>kepingin gudeg mbarek bu hj amad foto dari goo...</td>\n",
       "    </tr>\n",
       "    <tr>\n",
       "      <th>3</th>\n",
       "      <td>jln jatibarubagian dari wilayah tn abangpengat...</td>\n",
       "    </tr>\n",
       "    <tr>\n",
       "      <th>4</th>\n",
       "      <td>sharing pengalaman aja kemarin jam 1800 batali...</td>\n",
       "    </tr>\n",
       "    <tr>\n",
       "      <th>...</th>\n",
       "      <td>...</td>\n",
       "    </tr>\n",
       "    <tr>\n",
       "      <th>95</th>\n",
       "      <td>mudah2an sudah terupload smua sebelum z mudik ...</td>\n",
       "    </tr>\n",
       "    <tr>\n",
       "      <th>96</th>\n",
       "      <td>orang pendukung khilafah memang harus di black...</td>\n",
       "    </tr>\n",
       "    <tr>\n",
       "      <th>97</th>\n",
       "      <td>jangan sok akrab ye mention mention gue  malin...</td>\n",
       "    </tr>\n",
       "    <tr>\n",
       "      <th>98</th>\n",
       "      <td>alhamdulillah prof setelah berbicara semalam d...</td>\n",
       "    </tr>\n",
       "    <tr>\n",
       "      <th>99</th>\n",
       "      <td>keren kirakira masih ada nggak yg bilang pak  ...</td>\n",
       "    </tr>\n",
       "  </tbody>\n",
       "</table>\n",
       "<p>100 rows × 1 columns</p>\n",
       "</div>"
      ],
      "text/plain": [
       "                                                Komen\n",
       "0   soal jln jatibarupolisi tdk bs gertak gubernur...\n",
       "1   sesama cewe lho kayaknya harusnya bisa lebih r...\n",
       "2   kepingin gudeg mbarek bu hj amad foto dari goo...\n",
       "3   jln jatibarubagian dari wilayah tn abangpengat...\n",
       "4   sharing pengalaman aja kemarin jam 1800 batali...\n",
       "..                                                ...\n",
       "95  mudah2an sudah terupload smua sebelum z mudik ...\n",
       "96  orang pendukung khilafah memang harus di black...\n",
       "97  jangan sok akrab ye mention mention gue  malin...\n",
       "98  alhamdulillah prof setelah berbicara semalam d...\n",
       "99  keren kirakira masih ada nggak yg bilang pak  ...\n",
       "\n",
       "[100 rows x 1 columns]"
      ]
     },
     "execution_count": 3,
     "metadata": {},
     "output_type": "execute_result"
    }
   ],
   "source": [
    "# Proses Case Folding \n",
    "# Proses Membersihkan teks dari simbol yang tidak diperlukan\n",
    "import re \n",
    "def casefolding(komen):\n",
    "    komen = komen.lower()\n",
    "    komen = komen.strip(\" \")\n",
    "    komen = re.sub(r'(url)|(username)|(<[A-Za-z0-9]+>)|(#[A-Za-z0-9]+)|(@[A-Za-z0-9]+)|([^0-9A-Za-z \\t])|(\\w+:\\/\\/\\S+)',\"\",komen)\n",
    "    return komen\n",
    "data['Komen'] = data['Komen'].apply(casefolding)\n",
    "data.head(100)"
   ]
  },
  {
   "cell_type": "markdown",
   "metadata": {},
   "source": [
    "Tokenizing"
   ]
  },
  {
   "cell_type": "code",
   "execution_count": 4,
   "metadata": {},
   "outputs": [
    {
     "data": {
      "text/html": [
       "<div>\n",
       "<style scoped>\n",
       "    .dataframe tbody tr th:only-of-type {\n",
       "        vertical-align: middle;\n",
       "    }\n",
       "\n",
       "    .dataframe tbody tr th {\n",
       "        vertical-align: top;\n",
       "    }\n",
       "\n",
       "    .dataframe thead th {\n",
       "        text-align: right;\n",
       "    }\n",
       "</style>\n",
       "<table border=\"1\" class=\"dataframe\">\n",
       "  <thead>\n",
       "    <tr style=\"text-align: right;\">\n",
       "      <th></th>\n",
       "      <th>Komen</th>\n",
       "    </tr>\n",
       "  </thead>\n",
       "  <tbody>\n",
       "    <tr>\n",
       "      <th>0</th>\n",
       "      <td>[soal, jln, jatibarupolisi, tdk, bs, gertak, g...</td>\n",
       "    </tr>\n",
       "    <tr>\n",
       "      <th>1</th>\n",
       "      <td>[sesama, cewe, lho, kayaknya, harusnya, bisa, ...</td>\n",
       "    </tr>\n",
       "    <tr>\n",
       "      <th>2</th>\n",
       "      <td>[kepingin, gudeg, mbarek, bu, hj, amad, foto, ...</td>\n",
       "    </tr>\n",
       "    <tr>\n",
       "      <th>3</th>\n",
       "      <td>[jln, jatibarubagian, dari, wilayah, tn, abang...</td>\n",
       "    </tr>\n",
       "    <tr>\n",
       "      <th>4</th>\n",
       "      <td>[sharing, pengalaman, aja, kemarin, jam, 1800,...</td>\n",
       "    </tr>\n",
       "  </tbody>\n",
       "</table>\n",
       "</div>"
      ],
      "text/plain": [
       "                                               Komen\n",
       "0  [soal, jln, jatibarupolisi, tdk, bs, gertak, g...\n",
       "1  [sesama, cewe, lho, kayaknya, harusnya, bisa, ...\n",
       "2  [kepingin, gudeg, mbarek, bu, hj, amad, foto, ...\n",
       "3  [jln, jatibarubagian, dari, wilayah, tn, abang...\n",
       "4  [sharing, pengalaman, aja, kemarin, jam, 1800,..."
      ]
     },
     "execution_count": 4,
     "metadata": {},
     "output_type": "execute_result"
    }
   ],
   "source": [
    "# Proses Tokenizing\n",
    "# Memecah sebuah teks menjadi bagian-bagian yang lebih kecil\n",
    "def token(komen):\n",
    "    nstr = komen.split(\" \")\n",
    "    dat = []\n",
    "    a = -1\n",
    "\n",
    "    for i in nstr:\n",
    "        a = a + 1\n",
    "\n",
    "    if i == \"\":\n",
    "        dat.append(a)\n",
    "\n",
    "    p = 0\n",
    "    b = 0\n",
    "\n",
    "    for q in dat:\n",
    "        b = q - p\n",
    "        del nstr[b]\n",
    "        p = p + 1\n",
    "\n",
    "    return nstr\n",
    "\n",
    "data[\"Komen\"] = data[\"Komen\"].apply(token)\n",
    "data.head()"
   ]
  },
  {
   "cell_type": "markdown",
   "metadata": {},
   "source": [
    "Filtering"
   ]
  },
  {
   "cell_type": "code",
   "execution_count": 5,
   "metadata": {},
   "outputs": [
    {
     "name": "stderr",
     "output_type": "stream",
     "text": [
      "[nltk_data] Downloading package stopwords to\n",
      "[nltk_data]     C:\\Users\\verda\\AppData\\Roaming\\nltk_data...\n",
      "[nltk_data]   Package stopwords is already up-to-date!\n"
     ]
    },
    {
     "data": {
      "text/html": [
       "<div>\n",
       "<style scoped>\n",
       "    .dataframe tbody tr th:only-of-type {\n",
       "        vertical-align: middle;\n",
       "    }\n",
       "\n",
       "    .dataframe tbody tr th {\n",
       "        vertical-align: top;\n",
       "    }\n",
       "\n",
       "    .dataframe thead th {\n",
       "        text-align: right;\n",
       "    }\n",
       "</style>\n",
       "<table border=\"1\" class=\"dataframe\">\n",
       "  <thead>\n",
       "    <tr style=\"text-align: right;\">\n",
       "      <th></th>\n",
       "      <th>Komen</th>\n",
       "    </tr>\n",
       "  </thead>\n",
       "  <tbody>\n",
       "    <tr>\n",
       "      <th>0</th>\n",
       "      <td>[jln, jatibarupolisi, tdk, bs, gertak, gubernu...</td>\n",
       "    </tr>\n",
       "    <tr>\n",
       "      <th>1</th>\n",
       "      <td>[cewe, lho, kayaknya, rasain, sibuk, jaga, ras...</td>\n",
       "    </tr>\n",
       "    <tr>\n",
       "      <th>2</th>\n",
       "      <td>[kepingin, gudeg, mbarek, bu, hj, amad, foto, ...</td>\n",
       "    </tr>\n",
       "    <tr>\n",
       "      <th>3</th>\n",
       "      <td>[jln, jatibarubagian, wilayah, tn, abangpengat...</td>\n",
       "    </tr>\n",
       "    <tr>\n",
       "      <th>4</th>\n",
       "      <td>[sharing, pengalaman, aja, kemarin, jam, 1800,...</td>\n",
       "    </tr>\n",
       "    <tr>\n",
       "      <th>...</th>\n",
       "      <td>...</td>\n",
       "    </tr>\n",
       "    <tr>\n",
       "      <th>95</th>\n",
       "      <td>[mudah2an, terupload, smua, z, mudik, karna, f...</td>\n",
       "    </tr>\n",
       "    <tr>\n",
       "      <th>96</th>\n",
       "      <td>[orang, pendukung, khilafah, black, mail, , , ...</td>\n",
       "    </tr>\n",
       "    <tr>\n",
       "      <th>97</th>\n",
       "      <td>[sok, akrab, ye, mention, mention, gue, , mali...</td>\n",
       "    </tr>\n",
       "    <tr>\n",
       "      <th>98</th>\n",
       "      <td>[alhamdulillah, prof, berbicara, semalam, , ad...</td>\n",
       "    </tr>\n",
       "    <tr>\n",
       "      <th>99</th>\n",
       "      <td>[keren, kirakira, nggak, yg, bilang, , antiisl...</td>\n",
       "    </tr>\n",
       "  </tbody>\n",
       "</table>\n",
       "<p>100 rows × 1 columns</p>\n",
       "</div>"
      ],
      "text/plain": [
       "                                                Komen\n",
       "0   [jln, jatibarupolisi, tdk, bs, gertak, gubernu...\n",
       "1   [cewe, lho, kayaknya, rasain, sibuk, jaga, ras...\n",
       "2   [kepingin, gudeg, mbarek, bu, hj, amad, foto, ...\n",
       "3   [jln, jatibarubagian, wilayah, tn, abangpengat...\n",
       "4   [sharing, pengalaman, aja, kemarin, jam, 1800,...\n",
       "..                                                ...\n",
       "95  [mudah2an, terupload, smua, z, mudik, karna, f...\n",
       "96  [orang, pendukung, khilafah, black, mail, , , ...\n",
       "97  [sok, akrab, ye, mention, mention, gue, , mali...\n",
       "98  [alhamdulillah, prof, berbicara, semalam, , ad...\n",
       "99  [keren, kirakira, nggak, yg, bilang, , antiisl...\n",
       "\n",
       "[100 rows x 1 columns]"
      ]
     },
     "execution_count": 5,
     "metadata": {},
     "output_type": "execute_result"
    }
   ],
   "source": [
    "# Proses Filtering\n",
    "# Menghilangkan kata yang tidak bermanfaat\n",
    "import nltk\n",
    "nltk.download('stopwords')\n",
    "from nltk.corpus import stopwords\n",
    "\n",
    "def stopword_removal(komen):\n",
    "    filtering = stopwords.words(\"indonesian\")\n",
    "    x = []\n",
    "    data = []\n",
    "    def myFunc(x):\n",
    "        if x in filtering:\n",
    "            return False\n",
    "        else:\n",
    "            return True\n",
    "        \n",
    "    fit = filter(myFunc, komen)\n",
    "    for x in fit:\n",
    "        data.append(x)\n",
    "\n",
    "    return data\n",
    "\n",
    "data[\"Komen\"] = data[\"Komen\"].apply(stopword_removal)\n",
    "data.head(100)"
   ]
  },
  {
   "cell_type": "markdown",
   "metadata": {},
   "source": [
    "Stemming"
   ]
  },
  {
   "cell_type": "code",
   "execution_count": 6,
   "metadata": {},
   "outputs": [
    {
     "data": {
      "text/plain": [
       "<bound method NDFrame.head of                                                  Komen\n",
       "0    jln jatibarupolisi tdk bs gertak gubernur eman...\n",
       "1    cewe lho kayak rasain sibuk jaga rasain sakit ...\n",
       "2    kepingin gudeg mbarek bu hj amad foto google s...\n",
       "3    jln jatibarubagian wilayah tn abangpengaturan ...\n",
       "4    sharing alam aja kemarin jam 1800 batalin tike...\n",
       "..                                                 ...\n",
       "490  selamat  resmi dar saran si jago kasih dengar ...\n",
       "491  heran rkhup ngawur kek yg rancang ngawur deh s...\n",
       "492       iya wangsit sih undur pesimis deh negara ...\n",
       "493  um thanks for  nayangin teleseries  jejak suar...\n",
       "494  yg tnya nawarin knpa sih gak kerja bank sih ga...\n",
       "\n",
       "[495 rows x 1 columns]>"
      ]
     },
     "execution_count": 6,
     "metadata": {},
     "output_type": "execute_result"
    }
   ],
   "source": [
    "# Proses Steming\n",
    "from sklearn.pipeline import Pipeline\n",
    "from Sastrawi.Stemmer.StemmerFactory import StemmerFactory\n",
    "\n",
    "def stemming(komen):\n",
    "    factory = StemmerFactory()\n",
    "    stemmer = factory.create_stemmer()\n",
    "    kt = []\n",
    "\n",
    "    for w in komen:\n",
    "        dt = stemmer.stem(w)\n",
    "        kt.append(dt)\n",
    "\n",
    "    dt_clean = []\n",
    "    dt_clean = \" \".join(kt)\n",
    "    return dt_clean\n",
    "\n",
    "data[\"Komen\"] = data[\"Komen\"].apply(stemming)\n",
    "\n",
    "data.to_csv(\"data_prediksi/data_prediksi_clean.csv\", index=False)\n",
    "data_clean = pd.read_csv(\"data_prediksi/data_prediksi_clean.csv\")\n",
    "data_clean.head"
   ]
  },
  {
   "cell_type": "markdown",
   "metadata": {},
   "source": []
  },
  {
   "cell_type": "code",
   "execution_count": 7,
   "metadata": {},
   "outputs": [
    {
     "data": {
      "text/plain": [
       "Komen    string[python]\n",
       "dtype: object"
      ]
     },
     "execution_count": 7,
     "metadata": {},
     "output_type": "execute_result"
    }
   ],
   "source": [
    "data_clean = data_clean.astype({'Komen' : 'string'})\n",
    "data_clean.dtypes"
   ]
  },
  {
   "cell_type": "markdown",
   "metadata": {},
   "source": [
    "### Ubah data bersih menjadi CSV"
   ]
  },
  {
   "cell_type": "code",
   "execution_count": 8,
   "metadata": {},
   "outputs": [],
   "source": [
    "data_clean.to_csv(\"data_prediksi/data_prediksi_clean.csv\", index=False)"
   ]
  }
 ],
 "metadata": {
  "kernelspec": {
   "display_name": "venv-sentimen-analisis",
   "language": "python",
   "name": "python3"
  },
  "language_info": {
   "codemirror_mode": {
    "name": "ipython",
    "version": 3
   },
   "file_extension": ".py",
   "mimetype": "text/x-python",
   "name": "python",
   "nbconvert_exporter": "python",
   "pygments_lexer": "ipython3",
   "version": "3.10.1"
  },
  "orig_nbformat": 4
 },
 "nbformat": 4,
 "nbformat_minor": 2
}
